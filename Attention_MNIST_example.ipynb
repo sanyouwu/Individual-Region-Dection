{
 "cells": [
  {
   "cell_type": "markdown",
   "metadata": {},
   "source": [
    "# Import essential packages"
   ]
  },
  {
   "cell_type": "code",
   "execution_count": 1,
   "metadata": {},
   "outputs": [],
   "source": [
    "import tensorly as tl\n",
    "from tensorly.decomposition import parafac as CP ## CP\n",
    "from tensorly.decomposition import tucker  ## Tucker\n",
    "from tensorly.decomposition import tensor_train as TT ## Tensor-trian\n",
    "from tensorly import tucker_to_tensor\n",
    "import tensorly.tenalg as talg\n",
    "\n",
    "import numpy as np\n",
    "import scipy.linalg as la\n",
    "import matplotlib.pyplot as plt\n",
    "import time\n",
    "import seaborn as sns\n",
    "import os\n",
    "from tqdm import trange\n",
    "from sklearn.metrics import mean_squared_error as MSE\n",
    "import numpy as np\n",
    "from sklearn.metrics import accuracy_score\n",
    "import argparse\n",
    "import torch\n",
    "import torch.utils.data as data_utils\n",
    "import torch.optim as optim\n",
    "from torch.autograd import Variable\n",
    "from torchvision import datasets, transforms\n",
    "# from dataloader import MnistBags\n",
    "from mnist_bags_loader import MnistBags\n",
    "from model import Attention, GatedAttention\n",
    "from DataTransform import convert_data"
   ]
  },
  {
   "cell_type": "code",
   "execution_count": 4,
   "metadata": {},
   "outputs": [],
   "source": [
    "target_number = 9 # bags have a positive labels if they contain at least one 9\n",
    "mean_bag_length = 20 # average bag length\n",
    "var_bag_length = 0 # variance of bag length\n",
    "num_bags_train = 50 # the number of bags in training set\n",
    "num_bags_test = 1000 # the number of bags in testing set\n",
    "seed = 5 # random seed\n",
    "use_cuda = torch.cuda.is_available()"
   ]
  },
  {
   "cell_type": "code",
   "execution_count": 5,
   "metadata": {},
   "outputs": [
    {
     "name": "stdout",
     "output_type": "stream",
     "text": [
      "Load Train and Test Set\n"
     ]
    }
   ],
   "source": [
    "use_cuda = torch.cuda.is_available()\n",
    "print('Load Train and Test Set')\n",
    "# loader_kwargs = {'num_workers': 1, 'pin_memory': True} if use_cuda else {}\n",
    "train_loader = data_utils.DataLoader(MnistBags(target_number= target_number,\n",
    "                                               mean_bag_length= mean_bag_length,\n",
    "                                               var_bag_length= var_bag_length,\n",
    "                                               num_bag= num_bags_train,\n",
    "                                               seed= seed,\n",
    "                                               train=True),\n",
    "                                     batch_size=1,\n",
    "                                     shuffle=True,)\n",
    "\n",
    "test_loader = data_utils.DataLoader(MnistBags(target_number= target_number,\n",
    "                                              mean_bag_length= mean_bag_length,\n",
    "                                              var_bag_length= var_bag_length,\n",
    "                                              num_bag= num_bags_test,\n",
    "                                              seed= seed,\n",
    "                                              train=False),\n",
    "                                    batch_size=1,\n",
    "                                    shuffle=False,)\n",
    "\n"
   ]
  },
  {
   "cell_type": "code",
   "execution_count": 6,
   "metadata": {},
   "outputs": [
    {
     "name": "stdout",
     "output_type": "stream",
     "text": [
      "is cuda available:  True\n"
     ]
    }
   ],
   "source": [
    "from net import *\n",
    "from modules.criterion import *\n",
    "data_type = \"matrix\" # matrix / tensor,  default = matrix\n",
    "model_type = \"attention\" # attention\n",
    "gate = False\n",
    "img_sz = (28,28)\n",
    "model = MIL(img_sz,data_type,model_type, gate)\n",
    "### setting GPU\n",
    "use_cuda = torch.cuda.is_available()\n",
    "print(\"is cuda available: \",use_cuda)\n",
    "if use_cuda:\n",
    "    model = model.cuda()\n",
    "learning_rate = 1 * 1e-4 ## 4\n",
    "### define the optimization algorithm\n",
    "optimizer = optim.Adam(model.parameters(), lr= learning_rate)\n",
    "## define criterion\n",
    "criterion = attention_obj()\n",
    "## the total number of iteration \n",
    "num_epochs = 50 ## 50\n",
    "## weight decay\n",
    "decay_weight = 1 # 0.98\n",
    "\n",
    "_lambda = 0 * 1e-3  ## 0.01 default"
   ]
  },
  {
   "cell_type": "code",
   "execution_count": 7,
   "metadata": {},
   "outputs": [
    {
     "data": {
      "text/plain": [
       "<bound method Module.parameters of MIL(\n",
       "  (feature_extractor_part1): Sequential(\n",
       "    (0): Conv2d(1, 20, kernel_size=(5, 5), stride=(1, 1), padding=(2, 2))\n",
       "    (1): BatchNorm2d(20, eps=1e-05, momentum=0.1, affine=True, track_running_stats=True)\n",
       "    (2): ReLU()\n",
       "    (3): MaxPool2d(kernel_size=2, stride=2, padding=0, dilation=1, ceil_mode=False)\n",
       "    (4): Conv2d(20, 50, kernel_size=(5, 5), stride=(1, 1), padding=(2, 2))\n",
       "    (5): BatchNorm2d(50, eps=1e-05, momentum=0.1, affine=True, track_running_stats=True)\n",
       "    (6): ReLU()\n",
       "    (7): MaxPool2d(kernel_size=2, stride=2, padding=0, dilation=1, ceil_mode=False)\n",
       "  )\n",
       "  (feature_extractor_part2): Sequential(\n",
       "    (0): Linear(in_features=2450, out_features=512, bias=True)\n",
       "    (1): ReLU()\n",
       "  )\n",
       "  (attention_net): Attn_Net(\n",
       "    (module): Sequential(\n",
       "      (0): Linear(in_features=512, out_features=256, bias=True)\n",
       "      (1): Tanh()\n",
       "      (2): Linear(in_features=256, out_features=1, bias=True)\n",
       "    )\n",
       "  )\n",
       "  (classifier): Sequential(\n",
       "    (0): Linear(in_features=512, out_features=1, bias=True)\n",
       "    (1): Sigmoid()\n",
       "  )\n",
       ")>"
      ]
     },
     "execution_count": 7,
     "metadata": {},
     "output_type": "execute_result"
    }
   ],
   "source": [
    "model.parameters"
   ]
  },
  {
   "cell_type": "markdown",
   "metadata": {},
   "source": [
    "## Run"
   ]
  },
  {
   "cell_type": "code",
   "execution_count": 8,
   "metadata": {},
   "outputs": [
    {
     "name": "stdout",
     "output_type": "stream",
     "text": [
      "Epoch: 5, Loss: 0.69761968, Train auc: 0.480000\n",
      "Epoch: 10, Loss: 0.46348853, Train auc: 0.800000\n",
      "Epoch: 15, Loss: 0.03157507, Train auc: 1.000000\n",
      "Epoch: 20, Loss: 0.00527025, Train auc: 1.000000\n",
      "Epoch: 25, Loss: 0.00206924, Train auc: 1.000000\n",
      "Epoch: 30, Loss: 0.00100436, Train auc: 1.000000\n",
      "Epoch: 35, Loss: 0.00056255, Train auc: 1.000000\n",
      "Epoch: 40, Loss: 0.00035505, Train auc: 1.000000\n",
      "Epoch: 45, Loss: 0.00024201, Train auc: 1.000000\n",
      "Epoch: 50, Loss: 0.00017324, Train auc: 1.000000\n"
     ]
    }
   ],
   "source": [
    "from sklearn import metrics\n",
    "# def train(epoch):\n",
    "for epoch in range(1,num_epochs+1):\n",
    "    model.train()\n",
    "    train_loss = 0.\n",
    "    # train_acc = 0.\n",
    "    Y_label = []\n",
    "    Y_hat_label = []\n",
    "    for batch_idx,(data,label) in enumerate(train_loader):\n",
    "        # data = torch.unsqueeze(data,2)\n",
    "        bag_label = label[0] + 0.  ## convert true-false to 1-0\n",
    "        ins_label = torch.tensor([0])\n",
    "        if use_cuda:\n",
    "            data, bag_label = data.cuda(), bag_label.cuda()\n",
    "        # data, bag_label = Variable(data), Variable(bag_label)\n",
    "        optimizer.zero_grad()\n",
    "        # calculate loss and metrics\n",
    "        y_hat,A = model(data) #data.float()\n",
    "        loss = criterion(y_hat,bag_label)\n",
    "        train_loss += loss.item()\n",
    "        Y_label.append(bag_label.squeeze().detach().cpu().numpy())\n",
    "        y_hat_label = torch.ge(y_hat, 0.5).float().detach().cpu().numpy()\n",
    "        Y_hat_label.append(y_hat_label.squeeze())\n",
    "        # backward pass\n",
    "        loss.backward()\n",
    "        # step\n",
    "        optimizer.step()\n",
    "    # calculate loss and error for epoch\n",
    "    train_loss /= len(train_loader)\n",
    "    # train_acc = accuracy_score(Y_label,Y_hat_label)        \n",
    "    fpr, tpr, thresholds = metrics.roc_curve(Y_label, Y_hat_label)\n",
    "    train_auc = metrics.auc(fpr, tpr)   \n",
    "    # train_error /= len(train_loader)\n",
    "    if epoch % 5 == 0:\n",
    "    # print('Epoch: {}, Loss: {:.4f}, Train error: {:.4f}'.format(epoch, train_loss.cpu().numpy()[0], train_error))\n",
    "        print('Epoch: {}, Loss: {:.8f}, Train auc: {:.6f}'.format(epoch, train_loss, train_auc))"
   ]
  },
  {
   "cell_type": "markdown",
   "metadata": {},
   "source": [
    "## 2.2 Testing"
   ]
  },
  {
   "cell_type": "code",
   "execution_count": 14,
   "metadata": {},
   "outputs": [
    {
     "data": {
      "text/plain": [
       "<AxesSubplot:ylabel='Density'>"
      ]
     },
     "execution_count": 14,
     "metadata": {},
     "output_type": "execute_result"
    },
    {
     "data": {
      "image/png": "[encoded data removed]",
      "text/plain": [
       "<Figure size 576x288 with 3 Axes>"
      ]
     },
     "metadata": {
      "needs_background": "light"
     },
     "output_type": "display_data"
    }
   ],
   "source": [
    "model.eval()\n",
    "Y_label = []\n",
    "Y_hat_label = []\n",
    "ty_hat_list = []\n",
    "tdata_list = []\n",
    "ins_label_list = []\n",
    "Y_hat_prob = []\n",
    "for batch_idx, (data, label) in enumerate(test_loader):\n",
    "    # data = torch.unsqueeze(data,2)\n",
    "    bag_label = label[0] + 0  ## convert true-false to 1-0\n",
    "    if use_cuda:\n",
    "        data, bag_label = data.cuda(), bag_label.cuda()\n",
    "    y_hat,attention_weights = model(data.float())\n",
    "    y_hat_label = torch.ge(y_hat, 0.5).float()\n",
    "    \n",
    "    Y_label.append(bag_label.squeeze().detach().cpu().numpy())\n",
    "    Y_hat_label.append(y_hat_label.squeeze().detach().cpu().numpy())\n",
    "    Y_hat_prob.append(y_hat.squeeze().detach().cpu().numpy())\n",
    "    tdata = data.detach().cpu().numpy().squeeze().squeeze()\n",
    "    tdata_list.append(tdata)\n",
    "    \n",
    "import warnings\n",
    "warnings.filterwarnings(\"ignore\")\n",
    "fig,ax = plt.subplots(figsize = (8,4))\n",
    "### presence-based\n",
    "plt.subplot(1,3,1)\n",
    "sns.distplot(Y_hat_prob,bins = 20)\n",
    "plt.title(\"Y-hat-prob\")\n",
    "## lower-bound\n",
    "plt.subplot(1,3,2)\n",
    "plt.title(\"Y-hat-label\")\n",
    "sns.distplot(Y_hat_label,bins = 20)\n",
    "plt.subplot(1,3,3)\n",
    "sns.distplot(Y_label,bins = 20)"
   ]
  },
  {
   "cell_type": "markdown",
   "metadata": {},
   "source": [
    "## Result"
   ]
  },
  {
   "cell_type": "code",
   "execution_count": 15,
   "metadata": {},
   "outputs": [
    {
     "name": "stdout",
     "output_type": "stream",
     "text": [
      "test auc:  0.90548\n",
      "the acc of testing:  0.862\n",
      "the tpr of testing:  0.778\n",
      "the tnr of testing:  0.946\n"
     ]
    }
   ],
   "source": [
    "from utils import *\n",
    "from sklearn import metrics\n",
    "\n",
    "Y_hat_prob_ = [1 if x >=0.5 else 0 for x in Y_hat_prob]\n",
    "fpr, tpr, thresholds = metrics.roc_curve(Y_label, Y_hat_prob)\n",
    "TPR,TNR,ACC = cls_measure(Y_label,Y_hat_prob_)\n",
    "test_auc = np.round(metrics.auc(fpr, tpr),5)\n",
    "print(\"test auc: \",test_auc)\n",
    "print(\"the acc of testing: \",ACC)\n",
    "print(\"the tpr of testing: \",np.round(TPR,5))\n",
    "print(\"the tnr of testing: \",np.round(TNR,5))"
   ]
  },
  {
   "cell_type": "markdown",
   "metadata": {},
   "source": [
    "## 2.3 Plot"
   ]
  },
  {
   "cell_type": "code",
   "execution_count": 21,
   "metadata": {},
   "outputs": [
    {
     "name": "stdout",
     "output_type": "stream",
     "text": [
      "Ground truth:  1\n",
      "the probability for a bag including number 9:  1.0\n"
     ]
    },
    {
     "data": {
      "image/png": "[encoded data removed]",
      "text/plain": [
       "<Figure size 1440x864 with 20 Axes>"
      ]
     },
     "metadata": {},
     "output_type": "display_data"
    }
   ],
   "source": [
    "fig,ax = plt.subplots(figsize = (20,12))\n",
    "k = 0\n",
    "print(\"Ground truth: \",Y_label[k])\n",
    "print(\"the probability for a bag including number 9: \",Y_hat_label[k])\n",
    "for i in range(tdata.shape[0]):\n",
    "    plt.subplot(6,5,i+1)\n",
    "    plt.imshow(tdata[i,:,:],\"gray\")\n",
    "    plt.title(\"Prob: \" + str(Y_hat_prob[i]), color = \"white\")\n",
    "    plt.xticks([])\n",
    "    plt.yticks([])"
   ]
  }
 ],
 "metadata": {
  "kernelspec": {
   "display_name": "Python 3 (ipykernel)",
   "language": "python",
   "name": "python3"
  },
  "language_info": {
   "codemirror_mode": {
    "name": "ipython",
    "version": 3
   },
   "file_extension": ".py",
   "mimetype": "text/x-python",
   "name": "python",
   "nbconvert_exporter": "python",
   "pygments_lexer": "ipython3",
   "version": "3.9.5"
  },
  "vscode": {
   "interpreter": {
    "hash": "ad2bdc8ecc057115af97d19610ffacc2b4e99fae6737bb82f5d7fb13d2f2c186"
   }
  }
 },
 "nbformat": 4,
 "nbformat_minor": 4
}

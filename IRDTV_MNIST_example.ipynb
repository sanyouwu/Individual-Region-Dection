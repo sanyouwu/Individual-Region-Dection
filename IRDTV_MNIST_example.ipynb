{
 "cells": [
  {
   "cell_type": "markdown",
   "metadata": {},
   "source": [
    "# Import essential packages"
   ]
  },
  {
   "cell_type": "code",
   "execution_count": 3,
   "metadata": {},
   "outputs": [],
   "source": [
    "import numpy as np\n",
    "import scipy.linalg as la\n",
    "import matplotlib.pyplot as plt\n",
    "import time\n",
    "import seaborn as sns\n",
    "import os\n",
    "from tqdm import trange\n",
    "from sklearn.metrics import mean_squared_error as MSE\n",
    "import numpy as np\n",
    "from sklearn.metrics import accuracy_score\n",
    "import argparse\n",
    "import torch\n",
    "import torch.utils.data as data_utils\n",
    "import torch.optim as optim\n",
    "from torch.autograd import Variable\n",
    "from torchvision import datasets, transforms\n",
    "# from dataloader import MnistBags\n",
    "from mnist_bags_loader import MnistBags\n",
    "from model import Attention, GatedAttention\n",
    "from DataTransform import convert_data"
   ]
  },
  {
   "cell_type": "markdown",
   "metadata": {},
   "source": [
    "## 1. Import mnist data"
   ]
  },
  {
   "cell_type": "code",
   "execution_count": 4,
   "metadata": {},
   "outputs": [],
   "source": [
    "target_number = 9 # bags have a positive labels if they contain at least one 9\n",
    "mean_bag_length = 20 # average bag length\n",
    "var_bag_length = 0 # variance of bag length\n",
    "num_bags_train = 100 # the number of bags in training set\n",
    "num_bags_test = 200 # the number of bags in testing set\n",
    "seed = 5 # random seed\n",
    "use_cuda = torch.cuda.is_available()"
   ]
  },
  {
   "cell_type": "code",
   "execution_count": 5,
   "metadata": {},
   "outputs": [
    {
     "data": {
      "text/plain": [
       "tensor([0., 0., 0.])"
      ]
     },
     "execution_count": 5,
     "metadata": {},
     "output_type": "execute_result"
    }
   ],
   "source": [
    "import torch\n",
    "torch.zeros(3)"
   ]
  },
  {
   "cell_type": "code",
   "execution_count": 6,
   "metadata": {},
   "outputs": [
    {
     "name": "stdout",
     "output_type": "stream",
     "text": [
      "Load Train and Test Set\n",
      "Downloading http://yann.lecun.com/exdb/mnist/train-images-idx3-ubyte.gz\n",
      "Downloading http://yann.lecun.com/exdb/mnist/train-images-idx3-ubyte.gz to ../datasets\\MNIST\\raw\\train-images-idx3-ubyte.gz\n"
     ]
    },
    {
     "name": "stderr",
     "output_type": "stream",
     "text": [
      "9913344it [00:00, 16444411.11it/s]                             \n"
     ]
    },
    {
     "name": "stdout",
     "output_type": "stream",
     "text": [
      "Extracting ../datasets\\MNIST\\raw\\train-images-idx3-ubyte.gz to ../datasets\\MNIST\\raw\n",
      "\n",
      "Downloading http://yann.lecun.com/exdb/mnist/train-labels-idx1-ubyte.gz\n",
      "Downloading http://yann.lecun.com/exdb/mnist/train-labels-idx1-ubyte.gz to ../datasets\\MNIST\\raw\\train-labels-idx1-ubyte.gz\n"
     ]
    },
    {
     "name": "stderr",
     "output_type": "stream",
     "text": [
      "29696it [00:00, 29747803.10it/s]         \n"
     ]
    },
    {
     "name": "stdout",
     "output_type": "stream",
     "text": [
      "Extracting ../datasets\\MNIST\\raw\\train-labels-idx1-ubyte.gz to ../datasets\\MNIST\\raw\n",
      "\n",
      "Downloading http://yann.lecun.com/exdb/mnist/t10k-images-idx3-ubyte.gz\n",
      "Downloading http://yann.lecun.com/exdb/mnist/t10k-images-idx3-ubyte.gz to ../datasets\\MNIST\\raw\\t10k-images-idx3-ubyte.gz\n"
     ]
    },
    {
     "name": "stderr",
     "output_type": "stream",
     "text": [
      "1649664it [00:00, 19875768.59it/s]         \n"
     ]
    },
    {
     "name": "stdout",
     "output_type": "stream",
     "text": [
      "Extracting ../datasets\\MNIST\\raw\\t10k-images-idx3-ubyte.gz to ../datasets\\MNIST\\raw\n",
      "\n",
      "Downloading http://yann.lecun.com/exdb/mnist/t10k-labels-idx1-ubyte.gz\n",
      "Downloading http://yann.lecun.com/exdb/mnist/t10k-labels-idx1-ubyte.gz to ../datasets\\MNIST\\raw\\t10k-labels-idx1-ubyte.gz\n"
     ]
    },
    {
     "name": "stderr",
     "output_type": "stream",
     "text": [
      "5120it [00:00, 5121592.29it/s]          \n"
     ]
    },
    {
     "name": "stdout",
     "output_type": "stream",
     "text": [
      "Extracting ../datasets\\MNIST\\raw\\t10k-labels-idx1-ubyte.gz to ../datasets\\MNIST\\raw\n",
      "\n"
     ]
    }
   ],
   "source": [
    "use_cuda = torch.cuda.is_available()\n",
    "print('Load Train and Test Set')\n",
    "# loader_kwargs = {'num_workers': 1, 'pin_memory': True} if use_cuda else {}\n",
    "train_loader = data_utils.DataLoader(MnistBags(target_number= target_number,\n",
    "                                               mean_bag_length= mean_bag_length,\n",
    "                                               var_bag_length= var_bag_length,\n",
    "                                               num_bag= num_bags_train,\n",
    "                                               seed= seed,\n",
    "                                               train=True),\n",
    "                                     batch_size=1,\n",
    "                                     shuffle=True,)\n",
    "\n",
    "test_loader = data_utils.DataLoader(MnistBags(target_number= target_number,\n",
    "                                              mean_bag_length= mean_bag_length,\n",
    "                                              var_bag_length= var_bag_length,\n",
    "                                              num_bag= num_bags_test,\n",
    "                                              seed= seed,\n",
    "                                              train=False),\n",
    "                                    batch_size=1,\n",
    "                                    shuffle=False,)"
   ]
  },
  {
   "cell_type": "markdown",
   "metadata": {},
   "source": [
    "## 2. Modeling"
   ]
  },
  {
   "cell_type": "markdown",
   "metadata": {},
   "source": [
    "### 2.1 Configurations"
   ]
  },
  {
   "cell_type": "code",
   "execution_count": 7,
   "metadata": {},
   "outputs": [
    {
     "name": "stdout",
     "output_type": "stream",
     "text": [
      "is cuda available:  True\n"
     ]
    }
   ],
   "source": [
    "from net import *\n",
    "from modules.criterion import *\n",
    "data_type = \"matrix\" # matrix / tensor,  default = matrix\n",
    "model_type = \"nn\" # logistic / nn, default = nn\n",
    "img_sz = (28,28)\n",
    "model = MIL(img_sz,data_type,model_type)\n",
    "### setting GPU\n",
    "use_cuda = torch.cuda.is_available()\n",
    "print(\"is cuda available: \",use_cuda)\n",
    "if use_cuda:\n",
    "    model = model.cuda()\n",
    "learning_rate = 1 * 1e-3 ## 4\n",
    "### define the optimization algorithm\n",
    "optimizer = optim.Adam(model.parameters(), lr= learning_rate)\n",
    "## define criterion\n",
    "criterion = MLE(p1 = 4, p2 = 5)\n",
    "## the total number of iteration \n",
    "num_epochs = 50 ## 50\n",
    "## weight decay\n",
    "decay_weight = 1 # 0.98\n",
    "\n",
    "_lambda = 0 * 1e-3  ## 0.01 default"
   ]
  },
  {
   "cell_type": "markdown",
   "metadata": {},
   "source": [
    "### 2.3 Training"
   ]
  },
  {
   "cell_type": "code",
   "execution_count": 8,
   "metadata": {},
   "outputs": [
    {
     "name": "stdout",
     "output_type": "stream",
     "text": [
      "Epoch: 5, Loss: 0.24585952, Train auc: 0.970800\n",
      "Epoch: 10, Loss: 0.01471994, Train auc: 1.000000\n",
      "Epoch: 15, Loss: 0.00375259, Train auc: 1.000000\n",
      "Epoch: 20, Loss: 0.00183956, Train auc: 1.000000\n",
      "Epoch: 25, Loss: 0.00107945, Train auc: 1.000000\n",
      "Epoch: 30, Loss: 0.00065483, Train auc: 1.000000\n",
      "Epoch: 35, Loss: 0.00043142, Train auc: 1.000000\n",
      "Epoch: 40, Loss: 0.00029070, Train auc: 1.000000\n",
      "Epoch: 45, Loss: 0.00020036, Train auc: 1.000000\n",
      "Epoch: 50, Loss: 0.00014496, Train auc: 1.000000\n"
     ]
    }
   ],
   "source": [
    "from sklearn import metrics\n",
    "# def train(epoch):\n",
    "for epoch in range(1,num_epochs+1):\n",
    "    model.train()\n",
    "    train_loss = 0.\n",
    "    # train_acc = 0.\n",
    "    Y_label = []\n",
    "    Y_hat_label = []\n",
    "    for batch_idx,(data,label) in enumerate(train_loader):\n",
    "        # data = torch.unsqueeze(data,2)\n",
    "        bag_label = label[0] + 0.  ## convert true-false to 1-0\n",
    "        # ins_label = torch.tensor([0])\n",
    "        ins_label = label[1] + 0. \n",
    "        if use_cuda:\n",
    "            data, bag_label = data.cuda(), bag_label.cuda()\n",
    "        # data, bag_label = Variable(data), Variable(bag_label)\n",
    "        optimizer.zero_grad()\n",
    "        # calculate loss and metrics\n",
    "        y_hat,_= model(data) #data.float()\n",
    "        ### presence-based\n",
    "        y_hat_label = 1 - torch.prod(1/( 1 + torch.exp(y_hat)))\n",
    "        ## lower-bound\n",
    "        # y_hat_label = 1 - 1/(1+torch.exp(1/30 * torch.sum(y_hat)))\n",
    "        # y_hat_label = torch.ge(y_hat_label,0.5) + 0\n",
    "        loss = criterion(bag_label,ins_label, y_hat,_lambda)\n",
    "        train_loss += loss.item()\n",
    "        Y_label.append(bag_label.squeeze().detach().cpu().numpy())\n",
    "        Y_hat_label.append(y_hat_label.squeeze().detach().cpu().numpy())\n",
    "        # backward pass\n",
    "        loss.backward()\n",
    "        # step\n",
    "        optimizer.step()\n",
    "    # calculate loss and error for epoch\n",
    "    train_loss /= len(train_loader)\n",
    "    # train_acc = accuracy_score(Y_label,Y_hat_label)        \n",
    "    fpr, tpr, thresholds = metrics.roc_curve(Y_label, Y_hat_label)\n",
    "    train_auc = metrics.auc(fpr, tpr)   \n",
    "    # train_error /= len(train_loader)\n",
    "    if epoch % 5 == 0:\n",
    "    # print('Epoch: {}, Loss: {:.4f}, Train error: {:.4f}'.format(epoch, train_loss.cpu().numpy()[0], train_error))\n",
    "        print('Epoch: {}, Loss: {:.8f}, Train auc: {:.6f}'.format(epoch, train_loss, train_auc))"
   ]
  },
  {
   "cell_type": "code",
   "execution_count": 9,
   "metadata": {},
   "outputs": [
    {
     "data": {
      "text/plain": [
       "<bound method Module.parameters of MIL(\n",
       "  (feature_extractor_part1): Sequential(\n",
       "    (0): Conv2d(1, 20, kernel_size=(5, 5), stride=(1, 1), padding=(2, 2))\n",
       "    (1): BatchNorm2d(20, eps=1e-05, momentum=0.1, affine=True, track_running_stats=True)\n",
       "    (2): ReLU()\n",
       "    (3): MaxPool2d(kernel_size=2, stride=2, padding=0, dilation=1, ceil_mode=False)\n",
       "    (4): Conv2d(20, 50, kernel_size=(5, 5), stride=(1, 1), padding=(2, 2))\n",
       "    (5): BatchNorm2d(50, eps=1e-05, momentum=0.1, affine=True, track_running_stats=True)\n",
       "    (6): ReLU()\n",
       "    (7): MaxPool2d(kernel_size=2, stride=2, padding=0, dilation=1, ceil_mode=False)\n",
       "  )\n",
       "  (feature_extractor_part2): Sequential(\n",
       "    (0): Linear(in_features=2450, out_features=1, bias=False)\n",
       "  )\n",
       ")>"
      ]
     },
     "execution_count": 9,
     "metadata": {},
     "output_type": "execute_result"
    }
   ],
   "source": [
    "model.parameters"
   ]
  },
  {
   "cell_type": "markdown",
   "metadata": {},
   "source": [
    "### 2.4 Testing"
   ]
  },
  {
   "cell_type": "code",
   "execution_count": 10,
   "metadata": {},
   "outputs": [
    {
     "data": {
      "text/plain": [
       "<AxesSubplot:ylabel='Density'>"
      ]
     },
     "execution_count": 10,
     "metadata": {},
     "output_type": "execute_result"
    },
    {
     "data": {
      "image/png": "[encoded data removed]",
      "text/plain": [
       "<Figure size 576x288 with 3 Axes>"
      ]
     },
     "metadata": {
      "needs_background": "light"
     },
     "output_type": "display_data"
    }
   ],
   "source": [
    "model.eval()\n",
    "Y_label = []\n",
    "Y_hat_label = []\n",
    "ty_hat_list = []\n",
    "tdata_list = []\n",
    "ins_label_list = []\n",
    "for batch_idx, (data, label) in enumerate(test_loader):\n",
    "    # data = torch.unsqueeze(data,2)\n",
    "    bag_label = label[0] + 0  ## convert true-false to 1-0\n",
    "    ins_label = label[1] + 0. \n",
    "    if use_cuda:\n",
    "        data, bag_label = data.cuda(), bag_label.cuda()\n",
    "    y_hat,_ = model(data.float())\n",
    "    ### presence-based\n",
    "    y_hat_label = 1 - torch.prod(1/( 1 + torch.exp(y_hat)))\n",
    "    ### lower-bound\n",
    "    # y_hat_label = 1 - 1/(1+torch.exp(1/30 * torch.sum(y_hat)))\n",
    "    ## one-hot, thresholding\n",
    "    # y_hat_label = torch.ge(y_hat_label,0.5) + 0\n",
    "    Y_label.append(bag_label.squeeze().detach().cpu().numpy())\n",
    "    Y_hat_label.append(y_hat_label.squeeze().detach().cpu().numpy())\n",
    "    # ty_hat = np.round((1/( 1 + torch.exp(-y_hat))).detach().cpu().numpy(),100)\n",
    "    ty_hat = (1/( 1 + torch.exp(-y_hat))).detach().cpu().numpy()\n",
    "    tdata = data.detach().cpu().numpy().squeeze().squeeze()\n",
    "    ty_hat_list.append(ty_hat)\n",
    "    tdata_list.append(tdata)\n",
    "    ins_label_list.append(ins_label.numpy())\n",
    "Y_hat_prob = []\n",
    "for k in range(len(ty_hat_list)):\n",
    "    Y_hat_prob.append(1- reduce(lambda x,y:x*y,1- ty_hat_list[k]))\n",
    "    \n",
    "import warnings\n",
    "warnings.filterwarnings(\"ignore\")\n",
    "fig,ax = plt.subplots(figsize = (8,4))\n",
    "### presence-based\n",
    "plt.subplot(1,3,1)\n",
    "sns.distplot(Y_hat_prob,bins = 20)\n",
    "plt.title(\"presence-based\")\n",
    "## lower-bound\n",
    "plt.subplot(1,3,2)\n",
    "plt.title(\"lower-bound\")\n",
    "sns.distplot(Y_hat_label,bins = 20)\n",
    "plt.subplot(1,3,3)\n",
    "sns.distplot(Y_label,bins = 20)"
   ]
  },
  {
   "cell_type": "code",
   "execution_count": 11,
   "metadata": {},
   "outputs": [
    {
     "data": {
      "text/plain": [
       "'c:\\\\Users\\\\sanyo\\\\OneDrive - connect.hku.hk\\\\Codes\\\\CodesForGithub\\\\IndividualizedRegionDetection'"
      ]
     },
     "execution_count": 11,
     "metadata": {},
     "output_type": "execute_result"
    }
   ],
   "source": [
    "import os \n",
    "os.getcwd()"
   ]
  },
  {
   "cell_type": "code",
   "execution_count": 12,
   "metadata": {},
   "outputs": [
    {
     "name": "stdout",
     "output_type": "stream",
     "text": [
      "---------presence-based + lower bound--------\n",
      "test auc:  0.9695\n",
      "the acc of testing:  0.93\n",
      "the tpr of testing:  0.89\n",
      "the tnr of testing:  0.97\n",
      "---------lower-bound--------\n",
      "test auc:  0.9695\n",
      "the acc of testing:  0.93\n",
      "the tpr of testing:  0.89\n",
      "the tnr of testing:  0.97\n"
     ]
    }
   ],
   "source": [
    "from utils import *\n",
    "from sklearn import metrics\n",
    "\n",
    "Y_hat_prob_ = [1 if x >=0.5 else 0 for x in Y_hat_prob]\n",
    "Y_hat_label_ = [1 if x >=0.5 else 0 for x in Y_hat_label]\n",
    "\n",
    "fpr, tpr, thresholds = metrics.roc_curve(Y_label, Y_hat_prob)\n",
    "TPR,TNR,ACC = cls_measure(Y_label,Y_hat_prob_)\n",
    "test_auc = np.round(metrics.auc(fpr, tpr),5)\n",
    "print(\"---------presence-based + lower bound--------\")\n",
    "print(\"test auc: \",test_auc)\n",
    "print(\"the acc of testing: \",ACC)\n",
    "print(\"the tpr of testing: \",np.round(TPR,5))\n",
    "print(\"the tnr of testing: \",np.round(TNR,5))\n",
    "print(\"---------lower-bound--------\")\n",
    "fpr, tpr, thresholds = metrics.roc_curve(Y_label, Y_hat_label)\n",
    "TPR,TNR,ACC = cls_measure(Y_label,Y_hat_label_)\n",
    "print(\"test auc: \",np.round(metrics.auc(fpr, tpr),5))\n",
    "print(\"the acc of testing: \",ACC)\n",
    "print(\"the tpr of testing: \",np.round(TPR,5))\n",
    "print(\"the tnr of testing: \",np.round(TNR,5))\n",
    "\n",
    "# wandb.log({'auc': test_auc, 'tpr': TPR, \"tnr\":TNR, \"acc\":ACC})"
   ]
  },
  {
   "cell_type": "code",
   "execution_count": 80,
   "metadata": {},
   "outputs": [
    {
     "name": "stdout",
     "output_type": "stream",
     "text": [
      "auprc of auc_IRD:  0.9190739241057325\n"
     ]
    }
   ],
   "source": [
    "from sklearn import metrics\n",
    "from sklearn.metrics import precision_recall_curve\n",
    "from sklearn.metrics import roc_curve\n",
    "\n",
    "ins_label_all = []\n",
    "for i in ins_label_list:\n",
    "    ins_label_all.extend(i.flatten())\n",
    "\n",
    "ins_hat_all = []\n",
    "for i in ty_hat_list:\n",
    "    ins_hat_all.extend(i.flatten())\n",
    "\n",
    "precision_IRD, recall_IRD,th = precision_recall_curve(ins_label_all, ins_hat_all)\n",
    "auprc_IRD = metrics.auc(recall_IRD, precision_IRD)\n",
    "print(\"auprc of auc_IRD: \",auprc_IRD)"
   ]
  },
  {
   "cell_type": "markdown",
   "metadata": {},
   "source": [
    "### 2.5 Plot"
   ]
  },
  {
   "cell_type": "code",
   "execution_count": 13,
   "metadata": {},
   "outputs": [
    {
     "name": "stdout",
     "output_type": "stream",
     "text": [
      "Ground truth:  1\n",
      "the probability for a bag including number 9:  [1.]\n"
     ]
    },
    {
     "data": {
      "image/png": "[encoded data removed]",
      "text/plain": [
       "<Figure size 864x2880 with 20 Axes>"
      ]
     },
     "metadata": {},
     "output_type": "display_data"
    }
   ],
   "source": [
    "from functools import reduce\n",
    "from pathlib import Path\n",
    "fig,ax = plt.subplots(figsize = (12,40))\n",
    "k = 4  ## k = 4,6 is a illustrative example\n",
    "k_y_hat = ty_hat_list[k].squeeze()\n",
    "top_5_idx = k_y_hat.argsort()[-1:-6:-1]\n",
    "top_5_y_hat = k_y_hat[top_5_idx]\n",
    "# ins_label = ins_label_list[k]\n",
    "print(\"Ground truth: \",Y_label[k])\n",
    "print(\"the probability for a bag including number 9: \",1- reduce(lambda x,y:x*y,1- ty_hat_list[k]))\n",
    "for i in range(len(ty_hat_list[k])):\n",
    "    plt.subplot(20,5,i+1)\n",
    "    if i in top_5_idx:\n",
    "        ax = plt.gca()\n",
    "        ax.spines[\"bottom\"].set_linewidth(7) \n",
    "        # ax.spines[\"top\"].set_color(\"red\")\n",
    "        # ax.spines[\"left\"].set_color(\"red\")\n",
    "        # ax.spines[\"right\"].set_color(\"red\")\n",
    "        # ax.spines[\"bottom\"].set_color(\"red\")\n",
    "        ax.spines[\"bottom\"].set_color(\"#00FF00\")\n",
    "        # plt.title(\"Prob: \" + str(ty_hat_list[k][i]), color = \"orange\")\n",
    "        plt.title(str(np.round(ty_hat_list[k][i],4)), color = \"black\", loc = \"center\", y = -0.2)\n",
    "        # ax.set_title(\"a\")\n",
    "    # if ins_label[i]:\n",
    "    #     ax = plt.gca()\n",
    "    #     ax.spines[\"bottom\"].set_linewidth(5) \n",
    "    #     ax.spines[\"bottom\"].set_color(\"#00FF00\")\n",
    "    plt.imshow(tdata_list[k][i,:,:],\"gray\")\n",
    "    plt.xticks([])\n",
    "    plt.yticks([])\n",
    "# save_dir = r\"D:\\OneDrive\\OneDrive - connect.hku.hk\\Codes\\IndividualizedRegionSelectionMIL\\res_data\"\n",
    "save_dir = r\"C:\\\\Users\\\\sanyo\\\\OneDrive - connect.hku.hk\\\\Codes\\\\IndividualizedRegionSelectionMIL\\\\res_data\"\n",
    "# plt.savefig(Path(save_dir,\"MNIST_20_green.pdf\"), dpi = 300, bbox_inches = \"tight\", pad_inches = 0)"
   ]
  }
 ],
 "metadata": {
  "kernelspec": {
   "display_name": "Python 3 (ipykernel)",
   "language": "python",
   "name": "python3"
  },
  "language_info": {
   "codemirror_mode": {
    "name": "ipython",
    "version": 3
   },
   "file_extension": ".py",
   "mimetype": "text/x-python",
   "name": "python",
   "nbconvert_exporter": "python",
   "pygments_lexer": "ipython3",
   "version": "3.9.5"
  },
  "vscode": {
   "interpreter": {
    "hash": "7b973d31310eac0a09c18e4fcef708a8c4f9c2c1a4fa11c093824b7fd83a85a0"
   }
  }
 },
 "nbformat": 4,
 "nbformat_minor": 4
}
